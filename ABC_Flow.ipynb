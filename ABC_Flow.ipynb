{
  "nbformat": 4,
  "nbformat_minor": 0,
  "metadata": {
    "colab": {
      "provenance": [],
      "authorship_tag": "ABX9TyOZ0Slc9LguZosYsMITmgNr",
      "include_colab_link": true
    },
    "kernelspec": {
      "name": "python3",
      "display_name": "Python 3"
    },
    "language_info": {
      "name": "python"
    }
  },
  "cells": [
    {
      "cell_type": "markdown",
      "metadata": {
        "id": "view-in-github",
        "colab_type": "text"
      },
      "source": [
        "<a href=\"https://colab.research.google.com/github/mannixp/PDF_Equation/blob/main/ABC_Flow.ipynb\" target=\"_parent\"><img src=\"https://colab.research.google.com/assets/colab-badge.svg\" alt=\"Open In Colab\"/></a>"
      ]
    },
    {
      "cell_type": "markdown",
      "source": [
        "This notebook validates the Fokker-Planck like equation derived in the paper *Craske J. et al. 2024* by computing each of the relevant terms numerically for the case of a scalar concentration evolving subject to an advection diffusion equation in a triply peridioc box via the ABC flow. To solve this equation we use the open source pseudo-spectral code Dedalus.\n",
        "\n",
        "\n",
        "\n",
        "**Setup**\n",
        "\n",
        "This cell checks if Dedalus is installed and performs some other basic setup.\n"
      ],
      "metadata": {
        "id": "KygaCbgb9TY2"
      }
    },
    {
      "cell_type": "code",
      "execution_count": null,
      "metadata": {
        "id": "XVWaFgUG8k6J"
      },
      "outputs": [],
      "source": [
        "# Set environment variables for best performance\n",
        "%env OMP_NUM_THREADS=1\n",
        "%env NUMEXPR_MAX_THREADS=1\n",
        "\n",
        "# Minimize logging output\n",
        "import logging\n",
        "logging.disable(logging.DEBUG)\n",
        "\n",
        "# Check if running on google colab\n",
        "import os\n",
        "using_google_colab = bool(os.getenv(\"COLAB_RELEASE_TAG\"))\n",
        "\n",
        "# Check for Dedalus\n",
        "try:\n",
        "    import dedalus.public as de\n",
        "    print(\"Dedalus already installed :)\")\n",
        "except:\n",
        "    print(\"Dedalus not installed yet.\")\n",
        "    if using_google_colab:\n",
        "        print(\"Installing for Google Colab.\")\n",
        "        print()\n",
        "        # Step 1: Install FFTW\n",
        "        !apt-get install libfftw3-dev\n",
        "        !apt-get install libfftw3-mpi-dev\n",
        "        # Step 2: Set paths for Dedalus installation\n",
        "        import os\n",
        "        os.environ['MPI_INCLUDE_PATH'] = \"/usr/lib/x86_64-linux-gnu/openmpi/include\"\n",
        "        os.environ['MPI_LIBRARY_PATH'] = \"/usr/lib/x86_64-linux-gnu\"\n",
        "        os.environ['FFTW_INCLUDE_PATH'] = \"/usr/include\"\n",
        "        os.environ['FFTW_LIBRARY_PATH'] = \"/usr/lib/x86_64-linux-gnu\"\n",
        "        # Step 3: Install Dedalus using pip\n",
        "        !pip3 install --no-cache http://github.com/dedalusproject/dedalus/zipball/master/\n",
        "        !pip3 install -q ipympl\n",
        "        # Step 4: Check installation\n",
        "        print()\n",
        "        try:\n",
        "            import dedalus.public as de\n",
        "            print(\"Dedalus successfully installed :)\")\n",
        "        except:\n",
        "            print(\"Error installing Dedalus :(\")\n",
        "            raise\n",
        "    else:\n",
        "        print(\"See website for installation instructions:\")\n",
        "        print(\"https://dedalus-project.readthedocs.io/en/latest/pages/installation.html\")\n",
        "\n",
        "# Setup interactive matplotlib\n",
        "if using_google_colab:\n",
        "    from google.colab import output\n",
        "    output.enable_custom_widget_manager()"
      ]
    },
    {
      "cell_type": "markdown",
      "source": [
        "\n",
        "**Content**\n",
        "\n",
        "First let's import everything we need to run the rest of the notebook.\n"
      ],
      "metadata": {
        "id": "eNM2DHA19oU5"
      }
    },
    {
      "cell_type": "code",
      "source": [
        "import numpy as np\n",
        "import matplotlib.pyplot as plt\n",
        "import dedalus.public as d3\n",
        "import logging\n",
        "import h5py\n",
        "logger = logging.getLogger(__name__)\n",
        "%matplotlib widget"
      ],
      "metadata": {
        "id": "nQWrIcta9vCL"
      },
      "execution_count": 2,
      "outputs": []
    },
    {
      "cell_type": "markdown",
      "source": [
        "Next we solve the equation for the scalar concentration\n",
        "\\begin{equation}\n",
        "\\partial_t S + \\left( \\boldsymbol{u} \\cdot \\nabla \\right) S = \\kappa \\nabla^2 S,\n",
        "\\end{equation}\n",
        "over the time interval $t \\in [0,1]$ in a triply-periodic box $\\Pi^3$, with the velocity field given by the so called ABC flow\n",
        "\\begin{equation}\n",
        " \\boldsymbol{u} = \\left( A \\sin(z) + C \\cos(y), B \\sin(x) + A \\cos(z),  C \\sin(y) + B \\cos(x) \\right).\n",
        "\\end{equation}\n",
        "As an initial condition we prescribe a sharp interface,\n",
        "\\begin{equation}\n",
        "S = \\tanh(10(x + y + z)).\n",
        "\\end{equation}\n",
        "NOTE: This takes about 3 minutes to run."
      ],
      "metadata": {
        "id": "kLLqNv1Y-5V7"
      }
    },
    {
      "cell_type": "code",
      "source": [
        "# Parameters\n",
        "kappa = 0.1;  # Equivalent to Peclet number\n",
        "A,B,C = 1,1,1;\n",
        "Nx    = 64;   # This can be reduced but it will increase the noise in the histogram\n",
        "stop_sim_time = .25\n",
        "timestep = 1e-03\n",
        "\n",
        "# Domain\n",
        "coords = d3.CartesianCoordinates('x','y','z')\n",
        "dist   = d3.Distributor(coords, dtype=np.float64)\n",
        "xbasis = d3.RealFourier(coords['x'], size=Nx, bounds=(-np.pi, np.pi), dealias=3/2)\n",
        "ybasis = d3.RealFourier(coords['y'], size=Nx, bounds=(-np.pi, np.pi), dealias=3/2)\n",
        "zbasis = d3.RealFourier(coords['z'], size=Nx, bounds=(-np.pi, np.pi), dealias=3/2)\n",
        "\n",
        "# Fields\n",
        "S = dist.Field(name='S', bases=(xbasis,ybasis,zbasis))\n",
        "u = dist.VectorField(coords, name='u', bases=(xbasis,ybasis,zbasis))\n",
        "x,y,z = dist.local_grids(xbasis,ybasis,zbasis)\n",
        "\n",
        "# ABC flow\n",
        "u['g'][0] = A*np.sin(z) + C*np.cos(y);\n",
        "u['g'][1] = B*np.sin(x) + A*np.cos(z);\n",
        "u['g'][2] = C*np.sin(y) + B*np.cos(x);\n",
        "\n",
        "# Initial condition\n",
        "S['g']    = np.tanh(10*(x + y + z))\n",
        "\n",
        "# Problem\n",
        "grad_S  = d3.grad(S)\n",
        "problem = d3.IVP([S], namespace=locals())\n",
        "problem.add_equation(\"dt(S) - kappa*div(grad_S) = -u@grad(S)\") #\n",
        "\n",
        "# Solver\n",
        "solver = problem.build_solver(d3.RK222)\n",
        "solver.stop_sim_time = stop_sim_time\n",
        "\n",
        "# Flow properties\n",
        "flow = d3.GlobalFlowProperty(solver, cadence=100)\n",
        "flow.add_property(d3.Integrate(S**2)         , name='<S^2>' )\n",
        "flow.add_property(d3.Integrate(grad_S@grad_S), name='<dS^2>')\n",
        "\n",
        "# Main loop\n",
        "try:\n",
        "    logger.info('Starting main loop')\n",
        "    while solver.proceed:\n",
        "        solver.step(timestep)\n",
        "        if (solver.iteration-1) % 100 == 0:\n",
        "\n",
        "            S2_avg = flow.grid_average('<S^2>')\n",
        "            dS_avg = flow.grid_average('<dS^2>' )\n",
        "\n",
        "            logger.info('Iteration=%i, Time=%e, dt=%e'%(solver.iteration, solver.sim_time, timestep))\n",
        "            logger.info('<S^2>=%f, <dS^2>    =%f'%(S2_avg,dS_avg))\n",
        "\n",
        "        # Capture the last 5 snapshots\n",
        "        if  solver.iteration == int(stop_sim_time/timestep) - 5:\n",
        "            snapshots = solver.evaluator.add_file_handler('snapshots', iter=1)\n",
        "            snapshots.add_task(S,      layout='g',name='Scalar',scales=3/2)\n",
        "            snapshots.add_task(grad_S, layout='g',name='grad_S',scales=3/2)\n",
        "except:\n",
        "    logger.error('Exception raised, triggering end of main loop.')\n",
        "    raise\n",
        "finally:\n",
        "    solver.log_stats()"
      ],
      "metadata": {
        "id": "DjDSzeob-DTv"
      },
      "execution_count": null,
      "outputs": []
    },
    {
      "cell_type": "markdown",
      "source": [
        "Having time integrated the transport equation for the solute concentration and generated snapshots of $S(x,y,z;t)$ at discrete time intervals on our numerical grid, we now use this data to validate the Fokker-Planck like equation\n",
        "\\begin{equation}\n",
        "\\partial_tf_S(s;t) = - \\kappa \\partial^2_s \\left( \\mathbb{E}[ |\\nabla S|^2 |S=s]f_S(s;t) \\right),\n",
        "\\end{equation}\n",
        "which, subject to the knowledge of the expectation of the concentration gradient conditional on $S$, governs the time evolution of the probability density $f_S(s;t)$. We begin by loading the numerical snapshots saved"
      ],
      "metadata": {
        "id": "wWoP71QCA7ki"
      }
    },
    {
      "cell_type": "code",
      "source": [
        "N_bins = 256\n",
        "\n",
        "# Data loading\n",
        "file   = h5py.File('./snapshots/snapshots_s1.h5', mode='r')\n",
        "times  = file['tasks/Scalar'].dims[0][0][:]\n",
        "x_data = file['tasks/Scalar'].dims[1][0][:]\n",
        "y_data = file['tasks/Scalar'].dims[2][0][:]\n",
        "z_data = file['tasks/Scalar'].dims[3][0][:]\n",
        "\n",
        "S_data   = file['tasks/Scalar'][:,...]\n",
        "dSx_data = file['tasks/grad_S'][:,0,...]\n",
        "dSy_data = file['tasks/grad_S'][:,1,...]\n",
        "dSz_data = file['tasks/grad_S'][:,2,...]\n",
        "dS2_data = dSx_data**2 + dSy_data**2 + dSz_data**2;"
      ],
      "metadata": {
        "id": "nQLST5kWDN1x"
      },
      "execution_count": 4,
      "outputs": []
    },
    {
      "cell_type": "markdown",
      "source": [
        "We then use these data to estimate the terms in the Fokker-Planck like equation. To evaluate the left hand side we esimate the PDF $f_S$ (as a histogram) and then take its time derivative $\\partial_t f_S$ using 4th order central differencing."
      ],
      "metadata": {
        "id": "zvQJtR27Du32"
      }
    },
    {
      "cell_type": "code",
      "source": [
        "# PDF f_s\n",
        "f_np2,s = np.histogram(S_data[-1,...].flatten(),bins=N_bins,density=True); # n + 2 (-1)\n",
        "f_np1,s = np.histogram(S_data[-2,...].flatten(),bins=N_bins,density=True); # n + 1 (-2)\n",
        "\n",
        "f_nm1,s = np.histogram(S_data[-4,...].flatten(),bins=N_bins,density=True); # n - 1 (-4)\n",
        "f_nm2,s = np.histogram(S_data[-5,...].flatten(),bins=N_bins,density=True); # n - 2 (-5)\n",
        "\n",
        "s       = 0.5*(s[1:] + s[:-1]); ds = s[1] - s[0];\n",
        "\n",
        "# Time derivate df_s/dt\n",
        "dt   = times[-1] - times[-2];\n",
        "dfdt = (-1./12.)*f_np2 + (2./3.)*f_np1 - (2./3.)*f_nm1 + (1./12.)*f_nm2;\n",
        "dfdt /=dt;"
      ],
      "metadata": {
        "id": "0TFnpdTOEMm0"
      },
      "execution_count": 5,
      "outputs": []
    },
    {
      "cell_type": "markdown",
      "source": [
        "For the right hand side we first compute the conditional expectation $\\mathbb{E}[ |\\nabla S|^2 |S=s]$ and then build the operator $\\partial_s^2$ to compute its derivative."
      ],
      "metadata": {
        "id": "ztF9L2LiFGVl"
      }
    },
    {
      "cell_type": "code",
      "source": [
        "# Expectation\n",
        "f_SΦ,s,φ = np.histogram2d(S_data[-3,...].flatten(), dS2_data[-3,...].flatten(),bins=N_bins,density=True) # n (-3)\n",
        "φ = .5*(φ[1:]+φ[:-1]); dφ = φ[1] - φ[0];\n",
        "s = .5*(s[1:]+s[:-1]); dx = s[1] - s[0];\n",
        "f_S =  np.sum(  f_SΦ,axis=1)*dφ     # f_S(s)\n",
        "E   = (np.sum(φ*f_SΦ,axis=1)*dφ)/f_S; # E{Φ|S} = int_φ f_Φ|S(φ|s)*φ dφ\n",
        "\n",
        "# Derivative\n",
        "N = len(s)\n",
        "L = np.zeros((N,N))\n",
        "for i in range(N):\n",
        "\n",
        "    L[i,i] = -2.\n",
        "\n",
        "    if i < N-1:\n",
        "        L[i,i+1] = 1\n",
        "    if i > 1:\n",
        "        L[i,i-1] = 1\n",
        "\n",
        "L   *= 1./(ds**2);\n",
        "L_inv= np.linalg.inv(L)"
      ],
      "metadata": {
        "id": "WcG97CFTF96t"
      },
      "execution_count": 6,
      "outputs": []
    },
    {
      "cell_type": "markdown",
      "source": [
        "To compare the left and right hand sides of the Fokker-Planck like equation we then, rather than differentiating the potentially noisy numerically evaluated terms, opt to twice integrate the left hand side. Numerically this is achieved by inverting $L$ onto $\\partial_t f_S$."
      ],
      "metadata": {
        "id": "dlsnYO7dGzjG"
      }
    },
    {
      "cell_type": "code",
      "source": [
        "LHS =  L_inv@dfdt;\n",
        "RHS = -kappa*E*f_S\n",
        "\n",
        "# Plotting\n",
        "fig = plt.figure(figsize=(8,6))\n",
        "\n",
        "plt.plot(s,LHS,'r-',label=r'$\\partial_t \\int [\\int f_S ds] ds$')\n",
        "plt.plot(s,RHS,'b-',label=r'$-\\kappa \\mathbb{E}[ |\\nabla S|^2 |S=s] f_S $')\n",
        "\n",
        "plt.xlabel(r'$s$')\n",
        "#plt.xlim([min(s),max(s)])\n",
        "plt.legend(fontsize=20)\n",
        "plt.tight_layout()\n",
        "plt.savefig('Equation_terms_HIST.png',dpi=200)\n",
        "plt.show()"
      ],
      "metadata": {
        "id": "OKpQdMaSHaNr"
      },
      "execution_count": null,
      "outputs": []
    },
    {
      "cell_type": "markdown",
      "source": [
        "Plotting these terms above we see that the left and right hand sides balance thus numerically validating our equation for this example. Below we also plot the PDF conditional expectation and the scalar conecentration $S(x,y,z=0;t=1)$."
      ],
      "metadata": {
        "id": "5ofV2bcyIMSr"
      }
    },
    {
      "cell_type": "code",
      "source": [
        "fig, axs = plt.subplots(1,3,figsize=(12,8))\n",
        "\n",
        "axs[0].pcolormesh(x_data,y_data,S_data[-1,:,:,0],cmap='RdBu',norm='linear')\n",
        "axs[0].set_ylabel(r'$y$')\n",
        "axs[0].set_xlabel(r'$x$')\n",
        "\n",
        "axs[1].plot(s,f_S,'r')\n",
        "axs[1].fill_between(x=s,y1=f_S,color= \"r\",alpha= 0.2)\n",
        "axs[1].set_ylabel(r'$f_S$')\n",
        "axs[1].set_xlabel(r'$s$')\n",
        "\n",
        "axs[2].plot(s,E,'r')\n",
        "axs[2].set_ylabel(r'$\\mathbb{E}[|\\nabla S|^2 |S=s]$')\n",
        "axs[2].set_xlabel(r'$s$')\n",
        "\n",
        "plt.tight_layout()\n",
        "plt.savefig('Field_And_PDF.png',dpi=200)\n",
        "plt.show()"
      ],
      "metadata": {
        "id": "Rn8alNdFJZ5A"
      },
      "execution_count": null,
      "outputs": []
    }
  ]
}