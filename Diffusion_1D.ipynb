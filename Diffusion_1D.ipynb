{
  "cells": [
    {
      "cell_type": "markdown",
      "metadata": {
        "id": "view-in-github",
        "colab_type": "text"
      },
      "source": [
        "<a href=\"https://colab.research.google.com/github/mannixp/PDF_Equation/blob/main/Diffusion_1D.ipynb\" target=\"_parent\"><img src=\"https://colab.research.google.com/assets/colab-badge.svg\" alt=\"Open In Colab\"/></a>"
      ]
    },
    {
      "cell_type": "markdown",
      "metadata": {
        "id": "9u_othcV7B_w"
      },
      "source": [
        "**1D Diffusion**\n",
        "\n",
        "This notebook validates the Fokker-Planck like equation derived in the paper Craske J. et al. 2024 by computing each of the relevant terms numerically for the case of 1D scalar diffusion on a bounded domain. To solve this equation we use the open source pseudo-spectral code Dedalus.\n",
        "\n",
        "**Setup**\n",
        "\n",
        "This cell checks if Dedalus is installed and performs some other basic setup.\n"
      ]
    },
    {
      "cell_type": "code",
      "execution_count": 1,
      "metadata": {
        "id": "VAS-nbBEO-Jr",
        "outputId": "36e7a61c-f98c-4d73-b417-eaa5b0da2644",
        "colab": {
          "base_uri": "https://localhost:8080/"
        }
      },
      "outputs": [
        {
          "output_type": "stream",
          "name": "stdout",
          "text": [
            "env: OMP_NUM_THREADS=1\n",
            "env: NUMEXPR_MAX_THREADS=1\n",
            "Dedalus already installed :)\n"
          ]
        }
      ],
      "source": [
        "# Set environment variables for best performance\n",
        "%env OMP_NUM_THREADS=1\n",
        "%env NUMEXPR_MAX_THREADS=1\n",
        "\n",
        "# Minimize logging output\n",
        "import logging\n",
        "logging.disable(logging.DEBUG)\n",
        "\n",
        "# Check if running on google colab\n",
        "import os\n",
        "using_google_colab = bool(os.getenv(\"COLAB_RELEASE_TAG\"))\n",
        "\n",
        "# Check for Dedalus\n",
        "try:\n",
        "    import dedalus.public as de\n",
        "    print(\"Dedalus already installed :)\")\n",
        "except:\n",
        "    print(\"Dedalus not installed yet.\")\n",
        "    if using_google_colab:\n",
        "        print(\"Installing for Google Colab.\")\n",
        "        print()\n",
        "        # Step 1: Install FFTW\n",
        "        !apt-get install libfftw3-dev\n",
        "        !apt-get install libfftw3-mpi-dev\n",
        "        # Step 2: Set paths for Dedalus installation\n",
        "        import os\n",
        "        os.environ['MPI_INCLUDE_PATH'] = \"/usr/lib/x86_64-linux-gnu/openmpi/include\"\n",
        "        os.environ['MPI_LIBRARY_PATH'] = \"/usr/lib/x86_64-linux-gnu\"\n",
        "        os.environ['FFTW_INCLUDE_PATH'] = \"/usr/include\"\n",
        "        os.environ['FFTW_LIBRARY_PATH'] = \"/usr/lib/x86_64-linux-gnu\"\n",
        "        # Step 3: Install Dedalus using pip\n",
        "        !pip3 install --no-cache http://github.com/dedalusproject/dedalus/zipball/master/\n",
        "        !pip3 install -q ipympl\n",
        "        # Step 4: Check installation\n",
        "        print()\n",
        "        try:\n",
        "            import dedalus.public as de\n",
        "            print(\"Dedalus successfully installed :)\")\n",
        "        except:\n",
        "            print(\"Error installing Dedalus :(\")\n",
        "            raise\n",
        "    else:\n",
        "        print(\"See website for installation instructions:\")\n",
        "        print(\"https://dedalus-project.readthedocs.io/en/latest/pages/installation.html\")\n",
        "\n",
        "# Setup interactive matplotlib\n",
        "if using_google_colab:\n",
        "    from google.colab import output\n",
        "    output.enable_custom_widget_manager()"
      ]
    },
    {
      "cell_type": "markdown",
      "metadata": {
        "id": "DGUrJnla7QkZ"
      },
      "source": [
        "\n",
        "**Content**\n",
        "\n",
        "First let's import everything we need to run the rest of the notebook."
      ]
    },
    {
      "cell_type": "code",
      "execution_count": 2,
      "metadata": {
        "id": "VUoH1XvG7TvW"
      },
      "outputs": [],
      "source": [
        "import numpy as np\n",
        "import matplotlib.pyplot as plt\n",
        "import dedalus.public as d3\n",
        "import logging\n",
        "import h5py\n",
        "logger = logging.getLogger(__name__)\n",
        "#%matplotlib widget"
      ]
    },
    {
      "cell_type": "markdown",
      "metadata": {
        "id": "eUImq3Qi7XKE"
      },
      "source": [
        "\n",
        "Next we solve the equation for the scalar concentration\n",
        "\\begin{equation}\n",
        "\\partial_t C = \\kappa \\partial_z^2 C, \\quad z \\in [0,1],\n",
        "\\end{equation}\n",
        "over the time interval $t \\in [0,1]$ subject to the Robin boundary conditions\n",
        "\\begin{aligned}\n",
        " \\Gamma C - \\beta \\partial_z C &= g_0(t), \\quad \\text{at} \\quad z = 0, \\\\\n",
        " \\Gamma C + \\beta \\partial_z C &= g_1(t), \\quad \\text{at} \\quad z = 1,\n",
        "\\end{aligned}\n",
        "for the initial condition\n",
        "\\begin{equation}\n",
        "C(z,t=0) = \\sin(2 \\pi z)\n",
        "\\end{equation}"
      ]
    },
    {
      "cell_type": "code",
      "execution_count": 3,
      "metadata": {
        "colab": {
          "base_uri": "https://localhost:8080/"
        },
        "id": "_1WCHKmx8rfs",
        "outputId": "31af9dc0-bdb7-43c1-f79e-b41ea564991b"
      },
      "outputs": [
        {
          "output_type": "stream",
          "name": "stderr",
          "text": [
            "INFO:subsystems:Building subproblem matrices 1/1 (~100%) Elapsed: 0s, Remaining: 0s, Rate: 1.0e+01/s\n"
          ]
        },
        {
          "output_type": "stream",
          "name": "stdout",
          "text": [
            "2024-04-05 16:17:55,727 subsystems 0/1 INFO :: Building subproblem matrices 1/1 (~100%) Elapsed: 0s, Remaining: 0s, Rate: 1.0e+01/s\n"
          ]
        },
        {
          "output_type": "stream",
          "name": "stderr",
          "text": [
            "INFO:__main__:Starting main loop\n"
          ]
        },
        {
          "output_type": "stream",
          "name": "stdout",
          "text": [
            "2024-04-05 16:17:55,736 __main__ 0/1 INFO :: Starting main loop\n"
          ]
        },
        {
          "output_type": "stream",
          "name": "stderr",
          "text": [
            "INFO:__main__:Iteration=1, Time=1.000000e-03, dt=1.000000e-03\n"
          ]
        },
        {
          "output_type": "stream",
          "name": "stdout",
          "text": [
            "2024-04-05 16:17:56,309 __main__ 0/1 INFO :: Iteration=1, Time=1.000000e-03, dt=1.000000e-03\n"
          ]
        },
        {
          "output_type": "stream",
          "name": "stderr",
          "text": [
            "INFO:__main__:<C^2>=0.500000, <Cz^2>    =19.739209\n"
          ]
        },
        {
          "output_type": "stream",
          "name": "stdout",
          "text": [
            "2024-04-05 16:17:56,316 __main__ 0/1 INFO :: <C^2>=0.500000, <Cz^2>    =19.739209\n"
          ]
        },
        {
          "output_type": "stream",
          "name": "stderr",
          "text": [
            "INFO:__main__:Iteration=313, Time=3.130000e-01, dt=1.000000e-03\n"
          ]
        },
        {
          "output_type": "stream",
          "name": "stdout",
          "text": [
            "2024-04-05 16:17:56,583 __main__ 0/1 INFO :: Iteration=313, Time=3.130000e-01, dt=1.000000e-03\n"
          ]
        },
        {
          "output_type": "stream",
          "name": "stderr",
          "text": [
            "INFO:__main__:<C^2>=0.500000, <Cz^2>    =19.739209\n"
          ]
        },
        {
          "output_type": "stream",
          "name": "stdout",
          "text": [
            "2024-04-05 16:17:56,588 __main__ 0/1 INFO :: <C^2>=0.500000, <Cz^2>    =19.739209\n"
          ]
        },
        {
          "output_type": "stream",
          "name": "stderr",
          "text": [
            "INFO:__main__:Iteration=625, Time=6.250000e-01, dt=1.000000e-03\n"
          ]
        },
        {
          "output_type": "stream",
          "name": "stdout",
          "text": [
            "2024-04-05 16:17:56,735 __main__ 0/1 INFO :: Iteration=625, Time=6.250000e-01, dt=1.000000e-03\n"
          ]
        },
        {
          "output_type": "stream",
          "name": "stderr",
          "text": [
            "INFO:__main__:<C^2>=0.015302, <Cz^2>    =0.866742\n"
          ]
        },
        {
          "output_type": "stream",
          "name": "stdout",
          "text": [
            "2024-04-05 16:17:56,740 __main__ 0/1 INFO :: <C^2>=0.015302, <Cz^2>    =0.866742\n"
          ]
        },
        {
          "output_type": "stream",
          "name": "stderr",
          "text": [
            "INFO:__main__:Iteration=937, Time=9.370000e-01, dt=1.000000e-03\n"
          ]
        },
        {
          "output_type": "stream",
          "name": "stdout",
          "text": [
            "2024-04-05 16:17:56,883 __main__ 0/1 INFO :: Iteration=937, Time=9.370000e-01, dt=1.000000e-03\n"
          ]
        },
        {
          "output_type": "stream",
          "name": "stderr",
          "text": [
            "INFO:__main__:<C^2>=0.015302, <Cz^2>    =0.866742\n"
          ]
        },
        {
          "output_type": "stream",
          "name": "stdout",
          "text": [
            "2024-04-05 16:17:56,887 __main__ 0/1 INFO :: <C^2>=0.015302, <Cz^2>    =0.866742\n"
          ]
        },
        {
          "output_type": "stream",
          "name": "stderr",
          "text": [
            "INFO:__main__:Iteration=1249, Time=1.249000e+00, dt=1.000000e-03\n"
          ]
        },
        {
          "output_type": "stream",
          "name": "stdout",
          "text": [
            "2024-04-05 16:17:57,063 __main__ 0/1 INFO :: Iteration=1249, Time=1.249000e+00, dt=1.000000e-03\n"
          ]
        },
        {
          "output_type": "stream",
          "name": "stderr",
          "text": [
            "INFO:__main__:<C^2>=0.009644, <Cz^2>    =0.322525\n"
          ]
        },
        {
          "output_type": "stream",
          "name": "stdout",
          "text": [
            "2024-04-05 16:17:57,067 __main__ 0/1 INFO :: <C^2>=0.009644, <Cz^2>    =0.322525\n"
          ]
        },
        {
          "output_type": "stream",
          "name": "stderr",
          "text": [
            "INFO:solvers:Simulation stop time reached.\n"
          ]
        },
        {
          "output_type": "stream",
          "name": "stdout",
          "text": [
            "2024-04-05 16:17:57,089 solvers 0/1 INFO :: Simulation stop time reached.\n"
          ]
        }
      ],
      "source": [
        "# Parameters\n",
        "β = 0.5\n",
        "Γ = 2.0\n",
        "κ = .1\n",
        "\n",
        "def g_0(t):\n",
        "    return -1;\n",
        "def g_1(t):\n",
        "    return  1;\n",
        "\n",
        "Nz=512\n",
        "stop_sim_time = .125*(1./κ) # Less than a diffusion time so not a steady state solution\n",
        "timestep      = 1e-03\n",
        "\n",
        "zcoord = d3.Coordinate('z')\n",
        "dist   = d3.Distributor(zcoord, dtype=np.float64)\n",
        "zbasis = d3.ChebyshevT(zcoord, size=Nz, bounds=(0,1),dealias=3/2)\n",
        "\n",
        "# Fields\n",
        "C      = dist.Field(name='c', bases=zbasis)\n",
        "tau_c1 = dist.Field(name='tau_c1')\n",
        "tau_c2 = dist.Field(name='tau_c2')\n",
        "g0     = dist.Field(name='g0')\n",
        "g1     = dist.Field(name='g1')\n",
        "\n",
        "# Substitutions\n",
        "dz = lambda A: d3.Differentiate(A, zcoord)\n",
        "lift_basis = zbasis.derivative_basis(1)\n",
        "lift = lambda A: d3.Lift(A, lift_basis, -1)\n",
        "Cz = dz(C)  + lift(tau_c1)\n",
        "Czz= dz(Cz) + lift(tau_c2)\n",
        "\n",
        "# Problem\n",
        "problem = d3.IVP([C, tau_c1, tau_c2], namespace=locals())\n",
        "problem.add_equation(\"dt(C) - κ*Czz = 0\")\n",
        "problem.add_equation(\"Γ*C(z=0) - β*dz(C)(z=0) = g0\")\n",
        "problem.add_equation(\"Γ*C(z=1) + β*dz(C)(z=1) = g1\")\n",
        "\n",
        "# Solver\n",
        "solver = problem.build_solver(d3.RK222)\n",
        "solver.stop_sim_time = stop_sim_time\n",
        "\n",
        "# Initial condition\n",
        "z      = dist.local_grid(zbasis)\n",
        "C['g'] = np.sin(2.*np.pi*z)\n",
        "\n",
        "# Flow properties\n",
        "flow = d3.GlobalFlowProperty(solver, cadence=500)\n",
        "flow.add_property(d3.Integrate(C**2) , name='<C^2>')\n",
        "flow.add_property(d3.Integrate(Cz**2), name='<Cz^2>')\n",
        "\n",
        "# Main loop\n",
        "logger.info('Starting main loop')\n",
        "while solver.proceed:\n",
        "\n",
        "    # Specify the bcs\n",
        "    g0['g'] = g_0(solver.sim_time)\n",
        "    g1['g'] = g_1(solver.sim_time)\n",
        "\n",
        "    solver.step(timestep)\n",
        "    if (solver.iteration-1) % int(stop_sim_time/(4.*timestep)) == 0:\n",
        "\n",
        "        C2_avg  = flow.grid_average('<C^2>')\n",
        "        Cz2_avg = flow.grid_average('<Cz^2>')\n",
        "\n",
        "        logger.info('Iteration=%i, Time=%e, dt=%e'%(solver.iteration, solver.sim_time, timestep))\n",
        "        logger.info('<C^2>=%f, <Cz^2>    =%f'%(C2_avg,Cz2_avg))\n",
        "\n",
        "    # Capture the last 5 snapshots\n",
        "    if  solver.iteration == int(stop_sim_time/timestep) - 5:\n",
        "        snapshots = solver.evaluator.add_file_handler('snapshots', iter=1)\n",
        "        snapshots.add_task(C , layout='g',name='C' ,scales=3/2)\n",
        "        snapshots.add_task(Cz, layout='g',name='Cz',scales=3/2)"
      ]
    },
    {
      "cell_type": "markdown",
      "metadata": {
        "id": "AB0dSAQ0A4wf"
      },
      "source": [
        "**Fokker-Planck like equation**\n",
        "\n",
        "Having time integrated the transport equation for the solute concentration and generated snapshots of $C(z;t)$ at discrete time intervals on our numerical grid, we now use this data to validate the Fokker-Planck like equation\n",
        "\\begin{equation}\n",
        "\\partial_tf_{C|Z} = - \\partial_c \\left( \\mathbb{E}[ \\kappa \\Delta C |C=c,Z=z]f_{C|Z} \\right),\n",
        "\\end{equation}\n",
        "which can also be written as\n",
        "<!-- \\begin{equation}\n",
        "\\partial_tf_C = -\\partial_c \\left( \\mathbb{S}(c) f_C \\right) - \\kappa \\partial^2_c \\left( \\mathbb{E}[ |\\nabla C|^2 |C=c]f_C \\right),\n",
        "\\end{equation}\n",
        "or indeed  -->\n",
        "\\begin{equation}\n",
        "\\partial_tf_C = \\int_0^1  \\kappa \\partial^2_z f_{C|Z} dz - \\kappa \\partial^2_c \\left( \\mathbb{E}[ |\\nabla C|^2 |C=c]f_C \\right).\n",
        "\\end{equation}\n",
        "in order to make the contribution of the boundary conditions more transparent. Subject to the knowledge of the source term arising from the boundary conditions and the expectation of the concentration gradient conditional on $C$ this equation governs the time evolution of the probability density $f_C(c;t)$. To see how we evaluate the source term and how this relates to the boundary conditions we begin by loading the numerical snapshots saved."
      ]
    },
    {
      "cell_type": "code",
      "execution_count": 4,
      "metadata": {
        "id": "FgnvRH0iBkRU"
      },
      "outputs": [],
      "source": [
        "N_bins=128\n",
        "\n",
        "# Data loading\n",
        "file   = h5py.File('snapshots/snapshots_s1.h5', mode='r')\n",
        "\n",
        "# Interpolate the data from a Chebyshev grid onto a uniform grid\n",
        "C_cheb  = file['tasks/C' ][:,:]\n",
        "Cz_cheb = file['tasks/Cz'][:,:]\n",
        "z_cheb  = file['tasks/C'].dims[1][0][:]\n",
        "times   = file['tasks/C'].dims[0][0][:]\n",
        "\n",
        "dz_cheb = z_cheb[1]-z_cheb[0];\n",
        "z_data  = np.arange(0,1,dz_cheb);\n",
        "s       = (len(times),len(z_data));\n",
        "C_data  = np.zeros(s)\n",
        "Cz_data = np.zeros(s)\n",
        "for i,t in enumerate(times):\n",
        "  C_data[i,:] = np.interp(z_data, z_cheb, C_cheb[i,:] )\n",
        "  Cz_data[i,:]= np.interp(z_data, z_cheb, Cz_cheb[i,:])\n",
        "dC2_data = Cz_data**2;"
      ]
    },
    {
      "cell_type": "markdown",
      "metadata": {
        "id": "ISPLKlNCCIJ-"
      },
      "source": [
        "We then use these data to estimate the terms in the Fokker-Planck like equation. To evaluate the left hand side we esimate the PDF $f_C$ (as a histogram) and then take its time derivative $\\partial_t f_C$ using 4th order central differencing."
      ]
    },
    {
      "cell_type": "code",
      "execution_count": 5,
      "metadata": {
        "id": "MHGjhOAPCSOP"
      },
      "outputs": [],
      "source": [
        "# PDF f_C\n",
        "f_np2,c = np.histogram(C_data[-1,...].flatten(),bins=N_bins,density=True); # n + 2 (-1)\n",
        "f_np1,c = np.histogram(C_data[-2,...].flatten(),bins=N_bins,density=True); # n + 1 (-2)\n",
        "\n",
        "f_nm1,c = np.histogram(C_data[-4,...].flatten(),bins=N_bins,density=True); # n - 1 (-4)\n",
        "f_nm2,c = np.histogram(C_data[-5,...].flatten(),bins=N_bins,density=True); # n - 2 (-5)\n",
        "\n",
        "c       = 0.5*(c[1:] + c[:-1]); dc = c[1] - c[0];\n",
        "\n",
        "# Time derivate df_C/dt\n",
        "dt   = times[-1] - times[-2];\n",
        "dfdt = (-1./12.)*f_np2 + (2./3.)*f_np1 - (2./3.)*f_nm1 + (1./12.)*f_nm2;\n",
        "dfdt /=dt;"
      ]
    },
    {
      "cell_type": "markdown",
      "metadata": {
        "id": "wXv_BV0-Cbn_"
      },
      "source": [
        "To obtain the right hand side we must compute the conditional expectation which we evaluate from its conditional probability\n",
        "\\begin{equation}\n",
        "\\mathbb{E}[ |\\nabla C|^2 |C=c] = \\int \\phi \\frac{ f_{ |\\nabla C|^2|C}(\\phi|c) }{f_C(c)} d \\phi,\n",
        "\\end{equation}\n",
        "and the derivative operator $L = \\partial_c^2$ for which we again avail of finite differences. Having used 4th order central differencing to estimate the time derivative centered at time index n=-3 we must evaluate this conditional expectation at the same index."
      ]
    },
    {
      "cell_type": "code",
      "execution_count": 6,
      "metadata": {
        "id": "1rU55lVIC1wK"
      },
      "outputs": [],
      "source": [
        "# Expectation\n",
        "# Let Φ = |∇C|^2 and φ its dummy variable\n",
        "f_CΦ,c,φ = np.histogram2d(C_data[-3,...].flatten(), dC2_data[-3,...].flatten(),bins=N_bins,density=True) # n (-3)\n",
        "φ = .5*(φ[1:]+φ[:-1]); dφ = φ[1] - φ[0];\n",
        "c = .5*(c[1:]+c[:-1]); dc = c[1] - c[0];\n",
        "f_C =  np.sum(  f_CΦ,axis=1)*dφ;      # f_C(c)\n",
        "E   = (np.sum(φ*f_CΦ,axis=1)*dφ)/f_C; # E{Φ|C} = int_φ f_Φ|C(φ|c)*φ dφ\n",
        "\n",
        "# Second derivative operator L\n",
        "# Boundary conditions on L = ∂^2_c ?\n",
        "N = len(c)\n",
        "L = np.zeros((N,N))\n",
        "for i in range(N):\n",
        "\n",
        "    if i == 0:\n",
        "        L[i,i  ] = -2.\n",
        "        L[i,i+1] =  1\n",
        "    elif i == N-1:\n",
        "        L[i,i-1] =  1.\n",
        "        L[i,i  ] = -2\n",
        "    else:\n",
        "        L[i,i-1] =  1\n",
        "        L[i,i  ] = -2.\n",
        "        L[i,i+1] =  1\n",
        "\n",
        "L   *= 1./(dc**2);"
      ]
    },
    {
      "cell_type": "markdown",
      "metadata": {
        "id": "8uejrsiuO-KG"
      },
      "source": [
        "Evaluation of the source term is somewhat more involved. We being by making the following manipulations\n",
        "\\begin{equation} %-\\frac{\\partial }{\\partial c} \\left( \\mathbb{S}(c) f_C \\right)\n",
        "\\int_0^1 \\frac{\\partial^2 f_{C|Z} }{\\partial z^2} dz  = -\\frac{\\partial }{\\partial c} \\left( \\mathbb{E} \\left\\{ \\frac{\\partial C}{\\partial Z} \\middle| C,Z \\right\\} f_{C|Z} \\right)|_{Z=1,0},\n",
        "\\end{equation}\n",
        "such that our boundary conditions simplifies to\n",
        "\\begin{equation}\n",
        "\\frac{\\partial f_{C|Z} }{\\partial z} |_{Z=1,0} = - \\frac{\\partial }{\\partial c} \\left( \\mathbb{E} \\left\\{ \\frac{\\partial C}{\\partial Z} \\middle| C,Z=1 \\right\\} f_{C|Z=1} - \\mathbb{E} \\left\\{ \\frac{\\partial C}{\\partial Z} \\middle| C,Z=0 \\right\\} f_{C|Z=0} \\right),\n",
        "\\end{equation}\n",
        "from which we can eliminate the conditional probabilities as they reduce to delta functions at $z=1,0$\n",
        "\\begin{equation}\n",
        "f_{C|Z}(c|z=1) = \\delta(c - C(Z=1)), \\quad f_{C|Z}(c|z=0) = \\delta(c - C(Z=0)).\n",
        "\\end{equation}\n",
        "At this point we must split the conditional expectations according to the physical boundary conditions prescribed."
      ]
    },
    {
      "cell_type": "markdown",
      "metadata": {
        "id": "mVPcdjeyO-KH"
      },
      "source": [
        "**Dirichlet**\n",
        "\n",
        "For this case, $\\beta = 0$ and the conditional expectations reduce to\n",
        "\\begin{equation}\n",
        "\\mathbb{E} \\left\\{ \\frac{\\partial C}{\\partial Z} \\middle| C=c,Z=1 \\right\\} = \\mathbb{E} \\left\\{ \\frac{\\partial C}{\\partial Z}  \\middle| C = g_1/\\Gamma,Z=1 \\right\\}, \\quad \\mathbb{E} \\left\\{ \\frac{\\partial C}{\\partial Z} \\middle| C=c,Z=0 \\right\\} = \\mathbb{E} \\left\\{ \\frac{\\partial C}{\\partial Z}  \\middle| C = g_0/\\Gamma,Z=1 \\right\\}\n",
        "\\end{equation}\n",
        "showing that the boundary term are known only up to a constant multiple and must otherwise be estimated numerically."
      ]
    },
    {
      "cell_type": "markdown",
      "metadata": {
        "id": "g_AkUQN7O-KI"
      },
      "source": [
        "**Neumann/Robin**\n",
        "\n",
        "For this case the conditional expectations reduce to\n",
        "\\begin{equation}\n",
        "\\mathbb{E} \\left\\{ \\frac{\\partial C}{\\partial Z} \\middle| C,Z=1 \\right\\} = \\frac{g_1 - \\Gamma c}{\\beta}, \\quad \\mathbb{E} \\left\\{ \\frac{\\partial C}{\\partial Z} \\middle| C,Z=0 \\right\\} = -\\frac{g_0 - \\Gamma c}{\\beta}.\n",
        "\\end{equation}\n",
        "which combined with the conditional probabilities above yields\n",
        "\\begin{equation}\n",
        "\\frac{\\partial f_{C|Z} }{\\partial z} |_{Z=1,0} = -\\frac{\\partial }{\\partial c} \\left( \\delta(c - C(Z=1))  \\left( \\frac{g_1 - \\Gamma c}{\\beta} \\right) + \\delta(c - C(Z=0))  \\left( \\frac{g_0 - \\Gamma c}{\\beta} \\right) \\right).\n",
        "\\end{equation}"
      ]
    },
    {
      "cell_type": "markdown",
      "metadata": {
        "id": "Hl9pF0XyISFv"
      },
      "source": [
        "**Numerical Comparison**\n",
        "\n",
        "To compare the left and right hand sides of the Fokker-Planck like equation we then, rather than differentiating delta functions or the potentially noisy numerically evaluated terms, opt to twice integrate the left hand side.\n",
        "\n",
        "\\begin{equation}\n",
        "\\kappa \\mathbb{E}[ |\\nabla C|^2 |C=c]f_C = \\partial^{-2}_c \\bigg( \\int_0^1  \\kappa \\partial^2_z f_{C|Z} dz -  \\partial_tf_C \\bigg).\n",
        "\\end{equation}\n",
        "\n",
        "Numerically this is achieved by inverting $L=\\partial^2_c$ onto $\\partial_t f_C$, while we treat the above source term analytically. Using the fact that\n",
        "\\begin{equation}\n",
        "\\int y(c)\\delta(c - a) dc = y(a)H(c - a) + const,\n",
        "\\end{equation}\n",
        "where $H(x)$ denotes the heavisde step function we can write\n",
        "\\begin{aligned}\n",
        "    \\int \\frac{\\partial f_{C|Z} }{\\partial z} |_{Z=1,0} dc &=  H(c - C(Z=1)) \\left( \\frac{g_1 - C(Z=1)}{\\beta} \\right) + H(c - C(Z=0))  \\left( \\frac{g_0 - C(Z=0)}{\\beta} \\right) + const, \\\\\n",
        "                                                           &= H(c - C(Z=0))  \\left( \\frac{g_0 - C(Z=0)}{\\beta} \\right),\n",
        "\\end{aligned}\n",
        "as the first term is non-zero only outside the domain. A particularly simple case is the fixed flux boundary conditions\n",
        "\\begin{equation}\n",
        "-\\partial_z C(Z=0) = 1, \\quad \\partial_z C(Z=1) = 1,\n",
        "\\end{equation}\n",
        "corresponding to a flux of concentration into and out of the domain at $Z=0, Z=1$ respectively, for which $\\Gamma=0, \\beta=1$ and $g_0 = g_1 = 1$."
      ]
    },
    {
      "cell_type": "code",
      "execution_count": 7,
      "metadata": {
        "id": "yumX_pN_O-KK"
      },
      "outputs": [],
      "source": [
        "# Source term\n",
        "g0 = g_0(times[-3])\n",
        "g1 = g_1(times[-3])\n",
        "\n",
        "# Integrated source term\n",
        "int_Sf_C = 0.*c;\n",
        "int_Sf_C[:] = (g0 - Γ*C_data[-3, 0])/β;\n",
        "#int_Sf_C[:] += (g1 - Γ*C_data[-3,-1])/β; # Doesn't contribute"
      ]
    },
    {
      "cell_type": "code",
      "execution_count": 8,
      "metadata": {
        "colab": {
          "base_uri": "https://localhost:8080/",
          "height": 972
        },
        "id": "9Su_kpWYJ2Xx",
        "outputId": "a1ebb382-9ad6-4b73-d40d-146d25eb2316"
      },
      "outputs": [
        {
          "output_type": "stream",
          "name": "stdout",
          "text": [
            "\n",
            " ~~~~~~~~~~~ Fokker Planck Equation error ~~~~~~~~~~~~~~~~~~~~~~~~~~ \n",
            "Error between LHS and RHS =  0.03656719640428407\n",
            "~~~~~~~~~~~~~~~~~~~~~~~~~~~~~~~~~~~~~~~~~~~~~~~~~~~~~~~~~~~~~~~~~~~ \n",
            " \n"
          ]
        },
        {
          "output_type": "stream",
          "name": "stderr",
          "text": [
            "INFO:matplotlib.mathtext:Substituting symbol S from STIXNonUnicode\n"
          ]
        },
        {
          "output_type": "stream",
          "name": "stdout",
          "text": [
            "2024-04-05 16:17:57,419 matplotlib.mathtext 0/1 INFO :: Substituting symbol S from STIXNonUnicode\n"
          ]
        },
        {
          "output_type": "stream",
          "name": "stderr",
          "text": [
            "INFO:matplotlib.mathtext:Substituting symbol E from STIXNonUnicode\n"
          ]
        },
        {
          "output_type": "stream",
          "name": "stdout",
          "text": [
            "2024-04-05 16:17:57,433 matplotlib.mathtext 0/1 INFO :: Substituting symbol E from STIXNonUnicode\n"
          ]
        },
        {
          "output_type": "stream",
          "name": "stderr",
          "text": [
            "INFO:matplotlib.mathtext:Substituting symbol S from STIXNonUnicode\n"
          ]
        },
        {
          "output_type": "stream",
          "name": "stdout",
          "text": [
            "2024-04-05 16:17:57,543 matplotlib.mathtext 0/1 INFO :: Substituting symbol S from STIXNonUnicode\n"
          ]
        },
        {
          "output_type": "stream",
          "name": "stderr",
          "text": [
            "INFO:matplotlib.mathtext:Substituting symbol E from STIXNonUnicode\n"
          ]
        },
        {
          "output_type": "stream",
          "name": "stdout",
          "text": [
            "2024-04-05 16:17:57,555 matplotlib.mathtext 0/1 INFO :: Substituting symbol E from STIXNonUnicode\n"
          ]
        },
        {
          "output_type": "stream",
          "name": "stderr",
          "text": [
            "INFO:matplotlib.mathtext:Substituting symbol S from STIXNonUnicode\n"
          ]
        },
        {
          "output_type": "stream",
          "name": "stdout",
          "text": [
            "2024-04-05 16:17:57,820 matplotlib.mathtext 0/1 INFO :: Substituting symbol S from STIXNonUnicode\n"
          ]
        },
        {
          "output_type": "stream",
          "name": "stderr",
          "text": [
            "INFO:matplotlib.mathtext:Substituting symbol E from STIXNonUnicode\n"
          ]
        },
        {
          "output_type": "stream",
          "name": "stdout",
          "text": [
            "2024-04-05 16:17:57,834 matplotlib.mathtext 0/1 INFO :: Substituting symbol E from STIXNonUnicode\n"
          ]
        },
        {
          "output_type": "stream",
          "name": "stderr",
          "text": [
            "INFO:matplotlib.mathtext:Substituting symbol S from STIXNonUnicode\n"
          ]
        },
        {
          "output_type": "stream",
          "name": "stdout",
          "text": [
            "2024-04-05 16:17:58,009 matplotlib.mathtext 0/1 INFO :: Substituting symbol S from STIXNonUnicode\n"
          ]
        },
        {
          "output_type": "stream",
          "name": "stderr",
          "text": [
            "INFO:matplotlib.mathtext:Substituting symbol E from STIXNonUnicode\n"
          ]
        },
        {
          "output_type": "stream",
          "name": "stdout",
          "text": [
            "2024-04-05 16:17:58,022 matplotlib.mathtext 0/1 INFO :: Substituting symbol E from STIXNonUnicode\n"
          ]
        },
        {
          "output_type": "display_data",
          "data": {
            "text/plain": [
              "<Figure size 800x600 with 1 Axes>"
            ],
            "image/png": "[encoded data removed]"
          },
          "metadata": {}
        }
      ],
      "source": [
        "# Compare equation terms\n",
        "LHS = np.linalg.inv(L)@dfdt;\n",
        "RHS = -κ*int_Sf_C - κ*E*f_C\n",
        "\n",
        "error = np.trapz(LHS+RHS,c)\n",
        "print('\\n ~~~~~~~~~~~ Fokker Planck Equation error ~~~~~~~~~~~~~~~~~~~~~~~~~~ ')\n",
        "print('Error between LHS and RHS = ',error)\n",
        "print('~~~~~~~~~~~~~~~~~~~~~~~~~~~~~~~~~~~~~~~~~~~~~~~~~~~~~~~~~~~~~~~~~~~ \\n ')\n",
        "\n",
        "\n",
        "fig = plt.figure(figsize=(8,6))\n",
        "\n",
        "plt.plot(c,LHS,'r-',label=r'$\\partial_t \\int [\\int f_C dc] dc$')\n",
        "plt.plot(c,RHS,'b-',label=r'$- \\int \\mathbb{S}(c) f_C dc -\\kappa \\mathbb{E}[ |\\nabla C|^2 |C=c] f_C $')\n",
        "\n",
        "plt.xlabel(r'$c$')\n",
        "plt.legend(fontsize=20)\n",
        "plt.tight_layout()\n",
        "plt.savefig('Equation_terms_HIST.png',dpi=200)\n",
        "plt.show()"
      ]
    },
    {
      "cell_type": "markdown",
      "metadata": {
        "id": "RRM1h921MjP_"
      },
      "source": [
        "Plotting these terms above we see that the left and right hand sides balance thus numerically validating our equation for this example. Below we also plot the PDF conditional expectation and the scalar conecentration $C(z;t=1)$."
      ]
    },
    {
      "cell_type": "code",
      "execution_count": 9,
      "metadata": {
        "colab": {
          "base_uri": "https://localhost:8080/",
          "height": 945
        },
        "id": "OvmEzoFTMhxg",
        "outputId": "0240a2c5-2204-4e87-edab-381d528a4a39"
      },
      "outputs": [
        {
          "output_type": "stream",
          "name": "stderr",
          "text": [
            "INFO:matplotlib.mathtext:Substituting symbol E from STIXNonUnicode\n"
          ]
        },
        {
          "output_type": "stream",
          "name": "stdout",
          "text": [
            "2024-04-05 16:17:58,373 matplotlib.mathtext 0/1 INFO :: Substituting symbol E from STIXNonUnicode\n"
          ]
        },
        {
          "output_type": "stream",
          "name": "stderr",
          "text": [
            "INFO:matplotlib.mathtext:Substituting symbol E from STIXNonUnicode\n"
          ]
        },
        {
          "output_type": "stream",
          "name": "stdout",
          "text": [
            "2024-04-05 16:17:58,571 matplotlib.mathtext 0/1 INFO :: Substituting symbol E from STIXNonUnicode\n"
          ]
        },
        {
          "output_type": "stream",
          "name": "stderr",
          "text": [
            "INFO:matplotlib.mathtext:Substituting symbol E from STIXNonUnicode\n"
          ]
        },
        {
          "output_type": "stream",
          "name": "stdout",
          "text": [
            "2024-04-05 16:17:59,022 matplotlib.mathtext 0/1 INFO :: Substituting symbol E from STIXNonUnicode\n"
          ]
        },
        {
          "output_type": "stream",
          "name": "stderr",
          "text": [
            "INFO:matplotlib.mathtext:Substituting symbol E from STIXNonUnicode\n"
          ]
        },
        {
          "output_type": "stream",
          "name": "stdout",
          "text": [
            "2024-04-05 16:17:59,636 matplotlib.mathtext 0/1 INFO :: Substituting symbol E from STIXNonUnicode\n"
          ]
        },
        {
          "output_type": "display_data",
          "data": {
            "text/plain": [
              "<Figure size 1200x800 with 3 Axes>"
            ],
            "image/png": "[encoded data removed]"
          },
          "metadata": {}
        }
      ],
      "source": [
        "fig, axs = plt.subplots(1,3,figsize=(12,8))\n",
        "\n",
        "axs[0].plot(z_data,C_data[-1,:],'k')\n",
        "axs[0].set_xlim([0,1])\n",
        "axs[0].set_ylabel(r'$C(z)$')\n",
        "axs[0].set_xlabel(r'$z$')\n",
        "\n",
        "axs[1].plot(c,f_C,'r')\n",
        "axs[1].fill_between(x=c,y1=f_C,color= \"r\",alpha= 0.2)\n",
        "axs[1].set_ylabel(r'$f_C$')\n",
        "axs[1].set_xlabel(r'$c$')\n",
        "\n",
        "axs[2].plot(c,E,'r')\n",
        "axs[2].set_ylabel(r'$\\mathbb{E}[|\\nabla C|^2 |C=c]$')\n",
        "axs[2].set_xlabel(r'$c$')\n",
        "\n",
        "plt.tight_layout()\n",
        "plt.savefig('Field_And_PDF.png',dpi=200)\n",
        "plt.show()"
      ]
    }
  ],
  "metadata": {
    "colab": {
      "provenance": [],
      "include_colab_link": true
    },
    "kernelspec": {
      "display_name": "dedalus3",
      "language": "python",
      "name": "python3"
    },
    "language_info": {
      "codemirror_mode": {
        "name": "ipython",
        "version": 3
      },
      "file_extension": ".py",
      "mimetype": "text/x-python",
      "name": "python",
      "nbconvert_exporter": "python",
      "pygments_lexer": "ipython3",
      "version": "3.11.0"
    },
    "vscode": {
      "interpreter": {
        "hash": "589404f707e0e92b82b1f57c0985e6f96586f8fb1352342a2d336ffc2faa31c7"
      }
    }
  },
  "nbformat": 4,
  "nbformat_minor": 0
}