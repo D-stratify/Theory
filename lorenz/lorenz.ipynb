{
 "cells": [
  {
   "cell_type": "markdown",
   "metadata": {},
   "source": [
    "This notebook applies **Appendix A Transformation of probability density** of *Craske J. et al. 2024* to compute the time evolution of joint probability density $f_\\mathbf{Y}$ of the vertical velocity $Y^1_t$ and buoyancy field $Y^2_t$ \n",
    "\n",
    "\\begin{align}\n",
    "  Y_{1} &=\\varphi_{t}^{1}(X_{1},X_{2}):=\\frac{\\sqrt{2}}{\\pi}\\left(k^{2}+\\pi^{2}\\right)a_{1}(t)\\mathrm{cos}(kX_{1})\\mathrm{sin}(\\pi X_{2}), \\\\\n",
    "  Y_{2} &=\\varphi_{t}^{2}(X_{1},X_{2}):=\\frac{\\sqrt{2}}{\\pi r}a_{2}(t)\\mathrm{cos}(kX_{1})\\mathrm{sin}(\\pi X_{2})-\\frac{1}{\\pi r}a_{3}(t)\\mathrm{sin}(2\\pi X_{2}),\n",
    "\\end{align}\n",
    "\n",
    "on a horizontally periodic domain $\\mathcal{X} := [0,2\\pi/k)\\times [0,1]\\ni \\mathbf{X}:=(X_{1},X_{2})$, which evolve according to the Lorenz (1963) model \n",
    "\n",
    "\\begin{align}\n",
    "  \\frac{da_{1}}{dt} &= s(a_{2}-a_{1}),\\\\\n",
    "  \\frac{da_{2}}{dt} &= ra_{1}-a_{2}-a_{1}a_{3},\\\\\n",
    "  \\frac{da_{3}}{dt} &= a_{1}a_{2}-ba_{3},\n",
    "\\end{align}\n",
    "where $b:=4\\pi^{2}(k^{2}+\\pi^{2})^{-1}$ characterises the aspect ratio of the domain, $s$ is the Prandtl number and $r$ is a renormalised Rayleigh number."
   ]
  },
  {
   "cell_type": "markdown",
   "metadata": {},
   "source": [
    "We first define the fields and this systems of equations below along with helper functions to define the coefficients"
   ]
  },
  {
   "cell_type": "code",
   "execution_count": null,
   "metadata": {},
   "outputs": [],
   "source": [
    "import numpy as np\n",
    "\n",
    "def calc_coeffs(r=28,b=8/3):\n",
    "    k = np.sqrt( (4-b)*np.pi**2/b )\n",
    "    c0 = np.sqrt(2)/np.pi*(k**2+np.pi**2)\n",
    "    c1 = np.sqrt(2)/np.pi/r\n",
    "    c2 = 2/r/np.pi\n",
    "    return [c0, c1, c2]\n",
    "\n",
    "def wavenumber(b=8/3):\n",
    "    \"\"\"wavenumber k for a given parameter b\"\"\"\n",
    "    return np.sqrt( (4-b)*np.pi**2/b )\n",
    "\n",
    "def field(X, a, s=10,r=28,b=8/3):\n",
    "    \"\"\"Return the vertical velocity and buoyancy field for a given state a(t)\"\"\"\n",
    "    k = wavenumber(b)\n",
    "    c = calc_coeffs(r=r,b=b)\n",
    "\n",
    "    # Vertical velocity\n",
    "    Y0 = c[0]*a[0]*np.cos(k*X[0])*np.sin(np.pi*X[1])\n",
    "\n",
    "    # Buoyancy field\n",
    "    Y1 = c[1]*a[1]*np.cos(k*X[0])*np.sin(np.pi*X[1])-c[2]*a[2]*np.sin(2*np.pi*X[1])/2\n",
    "    return [Y0, Y1]\n",
    "\n",
    "def tangent(t, a, s=10, r=28, b=8/3):\n",
    "    \"\"\"Phase space velocity of the Lorenz equations.\"\"\"\n",
    "    da = [0]*3\n",
    "    da[0] = s * (a[1]-a[0])\n",
    "    da[1] = a[0] * (r - a[2]) - a[1]\n",
    "    da[2] = a[0] * a[1] - b * a[2]\n",
    "    return da"
   ]
  },
  {
   "cell_type": "markdown",
   "metadata": {},
   "source": [
    "Note that the default parameters for all functions are set to $s = 10, r = 28, b = 8/3$ but these can be modified by the user. To generate the coefficients $a = [a_1(t), a_2(t), a_3(t)]$ as a function of time we simulate the Lorenz system using scipy."
   ]
  },
  {
   "cell_type": "code",
   "execution_count": null,
   "metadata": {},
   "outputs": [],
   "source": [
    "from scipy.integrate import solve_ivp\n",
    "\n",
    "nt = 5000\n",
    "tend = 200\n",
    "dt = tend/nt\n",
    "t = np.linspace(0,tend,nt+1)\n",
    "sol = solve_ivp(tangent, np.array([0,tend]), np.array([1.0,1.0,8.0]), t_eval=t)\n",
    "a = sol.y.T"
   ]
  },
  {
   "cell_type": "markdown",
   "metadata": {},
   "source": []
  }
 ],
 "metadata": {
  "kernelspec": {
   "display_name": "dedalus3",
   "language": "python",
   "name": "python3"
  },
  "language_info": {
   "name": "python",
   "version": "3.12.4"
  }
 },
 "nbformat": 4,
 "nbformat_minor": 2
}
